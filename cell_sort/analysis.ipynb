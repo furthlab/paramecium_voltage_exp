{
 "cells": [
  {
   "metadata": {},
   "cell_type": "markdown",
   "source": "Load packages",
   "id": "b9927be27389e32b"
  },
  {
   "cell_type": "code",
   "id": "initial_id",
   "metadata": {
    "collapsed": true,
    "ExecuteTime": {
     "end_time": "2024-07-29T19:31:49.995852Z",
     "start_time": "2024-07-29T19:31:49.992715Z"
    }
   },
   "source": [
    "import matplotlib\n",
    "import os\n",
    "import matplotlib.pyplot as plt\n",
    "import numpy as np\n",
    "import pandas as pd\n",
    "import json"
   ],
   "outputs": [],
   "execution_count": 14
  },
  {
   "metadata": {},
   "cell_type": "markdown",
   "source": "Experiment Directory",
   "id": "aa87867b813d3240"
  },
  {
   "metadata": {
    "ExecuteTime": {
     "end_time": "2024-07-29T19:31:50.353383Z",
     "start_time": "2024-07-29T19:31:50.351348Z"
    }
   },
   "cell_type": "code",
   "source": [
    "current_dir = os.getcwd()\n",
    "experiment_name = '1000mV_Sample00'\n",
    "experiment_dir = current_dir + '/sort/' + experiment_name +  '/'"
   ],
   "id": "aa85497ebe2cf70b",
   "outputs": [],
   "execution_count": 15
  },
  {
   "metadata": {},
   "cell_type": "markdown",
   "source": "## Single Cell Analysis",
   "id": "9cc45039df4a6a9e"
  },
  {
   "metadata": {},
   "cell_type": "markdown",
   "source": "Load Cell directory",
   "id": "4c5489e4a542c46e"
  },
  {
   "metadata": {
    "ExecuteTime": {
     "end_time": "2024-07-29T19:31:51.030067Z",
     "start_time": "2024-07-29T19:31:51.027886Z"
    }
   },
   "cell_type": "code",
   "source": [
    "cell_number_to_analysis = 2\n",
    "cell_dir = experiment_dir + '/' + 'cell_' + str(cell_number_to_analysis) + '.json'"
   ],
   "id": "b7e18a9fdfad8ca0",
   "outputs": [],
   "execution_count": 16
  },
  {
   "metadata": {},
   "cell_type": "markdown",
   "source": "Load Cell",
   "id": "230f6327d578dd75"
  },
  {
   "metadata": {
    "ExecuteTime": {
     "end_time": "2024-07-29T19:31:51.493901Z",
     "start_time": "2024-07-29T19:31:51.477939Z"
    }
   },
   "cell_type": "code",
   "source": "cell_df = pd.read_json(cell_dir)",
   "id": "8138c0f628065f2e",
   "outputs": [],
   "execution_count": 17
  },
  {
   "metadata": {
    "ExecuteTime": {
     "end_time": "2024-07-29T19:32:47.480465Z",
     "start_time": "2024-07-29T19:32:47.475066Z"
    }
   },
   "cell_type": "code",
   "source": "print(cell_df.head())",
   "id": "11b9e2af36bd78e4",
   "outputs": [
    {
     "name": "stdout",
     "output_type": "stream",
     "text": [
      "                                              frames\n",
      "0  {'frame': 2, 'ID': 3, 'xmin': 372, 'ymin': 414...\n",
      "1  {'frame': 2, 'ID': 3, 'xmin': 372, 'ymin': 414...\n",
      "2  {'frame': 3, 'ID': 3, 'xmin': 371, 'ymin': 421...\n",
      "3  {'frame': 4, 'ID': 3, 'xmin': 372, 'ymin': 422...\n",
      "4  {'frame': 5, 'ID': 3, 'xmin': 372, 'ymin': 426...\n"
     ]
    }
   ],
   "execution_count": 19
  },
  {
   "metadata": {
    "ExecuteTime": {
     "end_time": "2024-07-29T19:37:01.190243Z",
     "start_time": "2024-07-29T19:37:01.184127Z"
    }
   },
   "cell_type": "code",
   "source": "print(cell_df['frames'])",
   "id": "d2c0524811f3cbef",
   "outputs": [
    {
     "name": "stdout",
     "output_type": "stream",
     "text": [
      "0       {'frame': 2, 'ID': 3, 'xmin': 372, 'ymin': 414...\n",
      "1       {'frame': 2, 'ID': 3, 'xmin': 372, 'ymin': 414...\n",
      "2       {'frame': 3, 'ID': 3, 'xmin': 371, 'ymin': 421...\n",
      "3       {'frame': 4, 'ID': 3, 'xmin': 372, 'ymin': 422...\n",
      "4       {'frame': 5, 'ID': 3, 'xmin': 372, 'ymin': 426...\n",
      "                              ...                        \n",
      "4074    {'frame': 4075, 'ID': 32958, 'xmin': 99, 'ymin...\n",
      "4075    {'frame': 4076, 'ID': 32958, 'xmin': 98, 'ymin...\n",
      "4076    {'frame': 4077, 'ID': 32958, 'xmin': 97, 'ymin...\n",
      "4077    {'frame': 4078, 'ID': 33187, 'xmin': 146, 'ymi...\n",
      "4078    {'frame': 4079, 'ID': 32958, 'xmin': 93, 'ymin...\n",
      "Name: frames, Length: 4079, dtype: object\n"
     ]
    }
   ],
   "execution_count": 22
  },
  {
   "metadata": {
    "ExecuteTime": {
     "end_time": "2024-07-29T19:37:53.294089Z",
     "start_time": "2024-07-29T19:37:53.291473Z"
    }
   },
   "cell_type": "code",
   "source": "print(type(cell_df['frames']))",
   "id": "d64483d755f27f62",
   "outputs": [
    {
     "name": "stdout",
     "output_type": "stream",
     "text": [
      "<class 'pandas.core.series.Series'>\n"
     ]
    }
   ],
   "execution_count": 23
  },
  {
   "metadata": {
    "ExecuteTime": {
     "end_time": "2024-07-29T19:38:51.141021Z",
     "start_time": "2024-07-29T19:38:51.137001Z"
    }
   },
   "cell_type": "code",
   "source": "print(cell_df['frames'].iloc[1])",
   "id": "e0925ce68e585a5b",
   "outputs": [
    {
     "name": "stdout",
     "output_type": "stream",
     "text": [
      "{'frame': 2, 'ID': 3, 'xmin': 372, 'ymin': 414, 'xmax': 382, 'ymax': 438, 'remove': False, 'x': 377.0, 'y': 426.0, 'velocity': 5.70087712549569}\n"
     ]
    }
   ],
   "execution_count": 26
  },
  {
   "metadata": {
    "ExecuteTime": {
     "end_time": "2024-07-29T19:39:10.252693Z",
     "start_time": "2024-07-29T19:39:10.250309Z"
    }
   },
   "cell_type": "code",
   "source": "print(type(cell_df['frames'].iloc[1]))",
   "id": "5fdf6a8eb7dedad3",
   "outputs": [
    {
     "name": "stdout",
     "output_type": "stream",
     "text": [
      "<class 'dict'>\n"
     ]
    }
   ],
   "execution_count": 27
  },
  {
   "metadata": {
    "ExecuteTime": {
     "end_time": "2024-07-29T19:44:07.768684Z",
     "start_time": "2024-07-29T19:44:07.764999Z"
    }
   },
   "cell_type": "code",
   "source": [
    "print((cell_df['frames'].iloc[1])['x'])\n",
    "print((cell_df['frames'].iloc[1])['y'])"
   ],
   "id": "a312892945297d52",
   "outputs": [
    {
     "name": "stdout",
     "output_type": "stream",
     "text": [
      "377.0\n",
      "426.0\n"
     ]
    }
   ],
   "execution_count": 30
  },
  {
   "metadata": {},
   "cell_type": "code",
   "outputs": [],
   "execution_count": null,
   "source": "",
   "id": "59bac2cc41cec309"
  }
 ],
 "metadata": {
  "kernelspec": {
   "display_name": "Python 3",
   "language": "python",
   "name": "python3"
  },
  "language_info": {
   "codemirror_mode": {
    "name": "ipython",
    "version": 2
   },
   "file_extension": ".py",
   "mimetype": "text/x-python",
   "name": "python",
   "nbconvert_exporter": "python",
   "pygments_lexer": "ipython2",
   "version": "2.7.6"
  }
 },
 "nbformat": 4,
 "nbformat_minor": 5
}
